{
 "cells": [
  {
   "cell_type": "code",
   "execution_count": 1,
   "id": "15085c56-40a5-4a3d-95e2-83373b544a56",
   "metadata": {},
   "outputs": [],
   "source": [
    "#import libraries\n",
    "import pandas as pd\n",
    "from sqlalchemy import create_engine"
   ]
  },
  {
   "cell_type": "code",
   "execution_count": 2,
   "id": "1e7add54-5808-46fe-910b-e23c6f706331",
   "metadata": {},
   "outputs": [],
   "source": [
    "#create file paths\n",
    "airlines_path = '../Data Transformed/airlines_cleaned.csv'\n",
    "operations_path = '../Data Transformed/airline_portcountry_cleaned.csv'"
   ]
  },
  {
   "cell_type": "code",
   "execution_count": 3,
   "id": "45923fa4-3660-4e6b-8df5-e6d5555ba69c",
   "metadata": {},
   "outputs": [],
   "source": [
    "#extract files into DataFrames\n",
    "airlines_df = pd.read_csv(airlines_path)\n",
    "operations_df = pd.read_csv(operations_path)"
   ]
  },
  {
   "cell_type": "code",
   "execution_count": 4,
   "id": "1dd52cd2-1486-479e-8ea5-9163d2593516",
   "metadata": {},
   "outputs": [],
   "source": [
    "#create database connection\n",
    "connection_string = \"postgres:postgres@localhost:5432/airlines_db\"\n",
    "engine = create_engine(f'postgresql://{connection_string}')"
   ]
  },
  {
   "cell_type": "code",
   "execution_count": 5,
   "id": "788d4b83-b1ef-41fe-b141-3906f4a69dd1",
   "metadata": {},
   "outputs": [
    {
     "name": "stderr",
     "output_type": "stream",
     "text": [
      "<ipython-input-5-4fe23a8a790d>:2: SADeprecationWarning: The Engine.table_names() method is deprecated and will be removed in a future release.  Please refer to Inspector.get_table_names(). (deprecated since: 1.4)\n",
      "  engine.table_names()\n"
     ]
    },
    {
     "data": {
      "text/plain": [
       "['Airlines', 'Operations']"
      ]
     },
     "execution_count": 5,
     "metadata": {},
     "output_type": "execute_result"
    }
   ],
   "source": [
    "#confirm tables\n",
    "engine.table_names()"
   ]
  },
  {
   "cell_type": "code",
   "execution_count": 6,
   "id": "b5572f06-8db9-4e9e-a663-ba55443375ec",
   "metadata": {},
   "outputs": [],
   "source": [
    "#rename columns and set index\n",
    "airlines_df = airlines_df.rename(columns={'Airline ID': 'Airline_id'})\n",
    "airlines_df=airlines_df.set_index('Airline_id')\n",
    "operations_df = operations_df.rename(columns={'Month':'Month_Year',\n",
    "                                              'Freight_In_(tonnes)':'Freight_In_tonnes',\n",
    "                                              'Freight_Out_(tonnes)':'Freight_Out_tonnes',\n",
    "                                              'Mail_In_(tonnes)':'Mail_In_tonnes',\n",
    "                                              'Mail_Out_(tonnes)':'Mail_Out_tonnes',\n",
    "                                              'Airline ID':'Airline_id'})\n",
    "operations_df.index +=1\n",
    "operations_df.index.names = ['id']"
   ]
  },
  {
   "cell_type": "code",
   "execution_count": 7,
   "id": "eef23968-e858-43fd-b0d9-66082006c514",
   "metadata": {},
   "outputs": [],
   "source": [
    "#load into database\n",
    "airlines_df.to_sql(name='Airlines', con=engine, if_exists='append', index=True)\n",
    "operations_df.reset_index().to_sql(name='Operations',con=engine,if_exists='append',index=False)"
   ]
  },
  {
   "cell_type": "code",
   "execution_count": null,
   "id": "1f06c9c7-0895-4238-b9e0-cea4e311c0c7",
   "metadata": {},
   "outputs": [],
   "source": []
  },
  {
   "cell_type": "code",
   "execution_count": null,
   "id": "c8fbc627-8535-4de5-a560-c117d8c63382",
   "metadata": {},
   "outputs": [],
   "source": []
  }
 ],
 "metadata": {
  "kernelspec": {
   "display_name": "Python 3",
   "language": "python",
   "name": "python3"
  },
  "language_info": {
   "codemirror_mode": {
    "name": "ipython",
    "version": 3
   },
   "file_extension": ".py",
   "mimetype": "text/x-python",
   "name": "python",
   "nbconvert_exporter": "python",
   "pygments_lexer": "ipython3",
   "version": "3.8.8"
  }
 },
 "nbformat": 4,
 "nbformat_minor": 5
}
